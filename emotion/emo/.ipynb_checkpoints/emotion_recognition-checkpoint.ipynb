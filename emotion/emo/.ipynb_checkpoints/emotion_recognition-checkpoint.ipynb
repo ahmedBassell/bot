{
 "cells": [
  {
   "cell_type": "code",
   "execution_count": 1,
   "metadata": {
    "ExecuteTime": {
     "end_time": "2016-06-22T10:52:29.674573",
     "start_time": "2016-06-22T10:52:02.010453"
    },
    "collapsed": false
   },
   "outputs": [
    {
     "name": "stderr",
     "output_type": "stream",
     "text": [
      "[INFO] This non-commercial license of GraphLab Create is assigned to a.shaher16@gmail.com and will expire on January 21, 2017. For commercial licensing options, visit https://dato.com/buy/.\n",
      "\n",
      "[INFO] Start server at: ipc:///tmp/graphlab_server-2839 - Server binary: /home/ashaherb/anaconda2/envs/dato-env/lib/python2.7/site-packages/graphlab/unity_server - Server log: /tmp/graphlab_server_1466585541.log\n",
      "[INFO] GraphLab Server Version: 1.8\n",
      "/home/ashaherb/anaconda2/envs/dato-env/lib/python2.7/site-packages/matplotlib/__init__.py:872: UserWarning: axes.color_cycle is deprecated and replaced with axes.prop_cycle; please use the latter.\n",
      "  warnings.warn(self.msg_depr % (key, alt_key))\n"
     ]
    }
   ],
   "source": [
    "import os\n",
    "import nltk\n",
    "import string\n",
    "import time\n",
    "import sys\n",
    "import pandas as pd\n",
    "import numpy as np\n",
    "import graphlab as gl\n",
    "\n",
    "# matplotlib, seaborn\n",
    "import matplotlib.pyplot as plt\n",
    "import seaborn as sns\n",
    "sns.set_style('whitegrid')\n",
    "%matplotlib inline\n",
    "\n",
    "# machine learning\n",
    "from sklearn.tree import DecisionTreeClassifier\n",
    "from sklearn.linear_model import LogisticRegression\n",
    "from sklearn.svm import LinearSVC\n",
    "from sklearn.neighbors import KNeighborsClassifier\n",
    "from sklearn.naive_bayes import MultinomialNB\n",
    "from sklearn.metrics import f1_score, recall_score, precision_score\n",
    "from sklearn.pipeline import Pipeline\n",
    "from sklearn.cross_validation import KFold, train_test_split\n",
    "\n",
    "# NLP\n",
    "from nltk.corpus import stopwords\n",
    "from sklearn.feature_extraction.text import TfidfVectorizer, TfidfTransformer, CountVectorizer"
   ]
  },
  {
   "cell_type": "code",
   "execution_count": 2,
   "metadata": {
    "ExecuteTime": {
     "end_time": "2016-06-22T10:52:29.958475",
     "start_time": "2016-06-22T10:52:29.677729"
    },
    "collapsed": false
   },
   "outputs": [
    {
     "data": {
      "text/html": [
       "<div>\n",
       "<table border=\"1\" class=\"dataframe\">\n",
       "  <thead>\n",
       "    <tr style=\"text-align: right;\">\n",
       "      <th></th>\n",
       "      <th>emotion</th>\n",
       "      <th>text</th>\n",
       "    </tr>\n",
       "  </thead>\n",
       "  <tbody>\n",
       "    <tr>\n",
       "      <th>0</th>\n",
       "      <td>joy</td>\n",
       "      <td>[ On days when I feel close to my partner and ...</td>\n",
       "    </tr>\n",
       "    <tr>\n",
       "      <th>1</th>\n",
       "      <td>fear</td>\n",
       "      <td>Every time I imagine that someone I love or I ...</td>\n",
       "    </tr>\n",
       "    <tr>\n",
       "      <th>2</th>\n",
       "      <td>anger</td>\n",
       "      <td>When I had been obviously unjustly treated and...</td>\n",
       "    </tr>\n",
       "    <tr>\n",
       "      <th>3</th>\n",
       "      <td>sadness</td>\n",
       "      <td>When I think about the short time that we live...</td>\n",
       "    </tr>\n",
       "    <tr>\n",
       "      <th>4</th>\n",
       "      <td>disgust</td>\n",
       "      <td>At a gathering I found myself involuntarily si...</td>\n",
       "    </tr>\n",
       "    <tr>\n",
       "      <th>5</th>\n",
       "      <td>shame</td>\n",
       "      <td>When I realized that I was directing the feeli...</td>\n",
       "    </tr>\n",
       "    <tr>\n",
       "      <th>6</th>\n",
       "      <td>guilt</td>\n",
       "      <td>I feel guilty when when I realize that I consi...</td>\n",
       "    </tr>\n",
       "    <tr>\n",
       "      <th>7</th>\n",
       "      <td>joy</td>\n",
       "      <td>After my girlfriend had taken her exam we went...</td>\n",
       "    </tr>\n",
       "    <tr>\n",
       "      <th>8</th>\n",
       "      <td>fear</td>\n",
       "      <td>When, for the first time I realized the meanin...</td>\n",
       "    </tr>\n",
       "    <tr>\n",
       "      <th>9</th>\n",
       "      <td>anger</td>\n",
       "      <td>When a car is overtaking another and I am forc...</td>\n",
       "    </tr>\n",
       "  </tbody>\n",
       "</table>\n",
       "</div>"
      ],
      "text/plain": [
       "   emotion                                               text\n",
       "0      joy  [ On days when I feel close to my partner and ...\n",
       "1     fear  Every time I imagine that someone I love or I ...\n",
       "2    anger  When I had been obviously unjustly treated and...\n",
       "3  sadness  When I think about the short time that we live...\n",
       "4  disgust  At a gathering I found myself involuntarily si...\n",
       "5    shame  When I realized that I was directing the feeli...\n",
       "6    guilt  I feel guilty when when I realize that I consi...\n",
       "7      joy  After my girlfriend had taken her exam we went...\n",
       "8     fear  When, for the first time I realized the meanin...\n",
       "9    anger  When a car is overtaking another and I am forc..."
      ]
     },
     "execution_count": 2,
     "metadata": {},
     "output_type": "execute_result"
    }
   ],
   "source": [
    "data = pd.read_csv(\n",
    "    'ise_processed_2.csv', \n",
    "    header=None)\n",
    "data.columns = ['emotion', 'text']\n",
    "data.head(10)"
   ]
  },
  {
   "cell_type": "code",
   "execution_count": 3,
   "metadata": {
    "ExecuteTime": {
     "end_time": "2016-06-22T10:52:29.969292",
     "start_time": "2016-06-22T10:52:29.960979"
    },
    "collapsed": true
   },
   "outputs": [],
   "source": [
    "remove_punctuation_map = dict((ord(char), None) for char in string.punctuation)\n",
    "def tokenize(text):\n",
    "    lowers = text.lower()\n",
    "    no_punctuation = lowers.translate(remove_punctuation_map)\n",
    "    tokens = nltk.word_tokenize(no_punctuation)\n",
    "    return tokens"
   ]
  },
  {
   "cell_type": "code",
   "execution_count": 4,
   "metadata": {
    "ExecuteTime": {
     "end_time": "2016-06-22T10:52:30.105635",
     "start_time": "2016-06-22T10:52:29.971571"
    },
    "collapsed": false
   },
   "outputs": [],
   "source": [
    "def predict_fn(data, pipeline):\n",
    "    k_fold = KFold(n=len(data), n_folds=6)\n",
    "    fscores = []\n",
    "    pscores = []\n",
    "    rscores = []\n",
    "    t0 = time.time()\n",
    "    for train_indices, test_indices in k_fold:\n",
    "        train_text = data.iloc[train_indices]['text'].values\n",
    "        train_y = data.iloc[train_indices]['emotion'].values\n",
    "\n",
    "        test_text = data.iloc[test_indices]['text'].values\n",
    "        test_y = data.iloc[test_indices]['emotion'].values\n",
    "\n",
    "        pipeline.fit(train_text, train_y)\n",
    "        predictions = pipeline.predict(test_text)\n",
    "\n",
    "        fscore = f1_score(test_y, predictions, average='weighted')\n",
    "        fscores.append(fscore)\n",
    "        rscore = recall_score(test_y, predictions, average='weighted')\n",
    "        rscores.append(rscore)\n",
    "        pscore = precision_score(test_y, predictions, average='weighted')\n",
    "        pscores.append(pscore)\n",
    "    time_iter = (time.time() - t0)\n",
    "    output = {\"F1\": sum(fscores)/len(fscores),\n",
    "              \"Precision\": sum(pscores)/len(pscores),\n",
    "              \"Recall\": sum(rscores)/len(rscores),\n",
    "              \"Time\": time_iter}\n",
    "    ret = {\n",
    "        \"output\": output,\n",
    "        \"pipeline\": pipeline\n",
    "    }\n",
    "    return ret"
   ]
  },
  {
   "cell_type": "code",
   "execution_count": 5,
   "metadata": {
    "ExecuteTime": {
     "end_time": "2016-06-22T10:52:30.226751",
     "start_time": "2016-06-22T10:52:30.108186"
    },
    "collapsed": true
   },
   "outputs": [],
   "source": [
    "lr  = LogisticRegression()\n",
    "dtc = DecisionTreeClassifier()\n",
    "svc = LinearSVC(\n",
    "    C=1.0, class_weight=None, dual=True,\n",
    "    loss='squared_hinge', max_iter=1000,\n",
    "    multi_class='ovr', penalty='l2')\n",
    "knn = KNeighborsClassifier(\n",
    "    n_neighbors=10, algorithm='auto')\n",
    "mnb = MultinomialNB(alpha=1.0, class_prior=None, fit_prior=True)"
   ]
  },
  {
   "cell_type": "code",
   "execution_count": 6,
   "metadata": {
    "ExecuteTime": {
     "end_time": "2016-06-22T10:54:18.631040",
     "start_time": "2016-06-22T10:52:30.228626"
    },
    "collapsed": false
   },
   "outputs": [
    {
     "name": "stdout",
     "output_type": "stream",
     "text": [
      "Logistic Regression\n",
      "Decision Tree Classifier\n",
      "SVM\n",
      "KNN\n",
      "Multinomial Naive Bayes\n"
     ]
    }
   ],
   "source": [
    "classifier_df = pd.DataFrame()\n",
    "trained_pipelines = {}\n",
    "for clf, name in [\n",
    "    (lr, 'Logistic Regression'),\n",
    "    (dtc, 'Decision Tree Classifier'),\n",
    "    (svc, 'SVM'),\n",
    "    (knn, 'KNN'),\n",
    "    (mnb, 'Multinomial Naive Bayes')]:\n",
    "    \n",
    "    iter_pipeline = Pipeline([\n",
    "        ('vectorizer',  TfidfVectorizer(tokenizer=tokenize, stop_words='english')),\n",
    "        ('classifier',  clf)])\n",
    "    \n",
    "    ret_data = predict_fn(data, iter_pipeline)\n",
    "    trained_pipelines[name] = ret_data['pipeline']\n",
    "    ret_df = pd.DataFrame(ret_data['output'], index={name}, columns=ret_data['output'].keys())\n",
    "    if (name==\"Logistic Regression\"):\n",
    "        classifier_df = ret_df\n",
    "    else:\n",
    "        classifier_df = classifier_df.append(ret_df)\n",
    "    print name\n",
    "    sys.stdout.flush()\n",
    "classifier_df.to_csv(\"FinalOutput.csv\")"
   ]
  },
  {
   "cell_type": "code",
   "execution_count": 7,
   "metadata": {
    "ExecuteTime": {
     "end_time": "2016-06-22T10:54:18.653010",
     "start_time": "2016-06-22T10:54:18.633930"
    },
    "collapsed": false
   },
   "outputs": [
    {
     "data": {
      "text/html": [
       "<div>\n",
       "<table border=\"1\" class=\"dataframe\">\n",
       "  <thead>\n",
       "    <tr style=\"text-align: right;\">\n",
       "      <th></th>\n",
       "      <th>F1</th>\n",
       "      <th>Time</th>\n",
       "      <th>Precision</th>\n",
       "      <th>Recall</th>\n",
       "    </tr>\n",
       "  </thead>\n",
       "  <tbody>\n",
       "    <tr>\n",
       "      <th>Logistic Regression</th>\n",
       "      <td>0.556104</td>\n",
       "      <td>21.590941</td>\n",
       "      <td>0.558556</td>\n",
       "      <td>0.558941</td>\n",
       "    </tr>\n",
       "    <tr>\n",
       "      <th>Decision Tree Classifier</th>\n",
       "      <td>0.463627</td>\n",
       "      <td>27.619353</td>\n",
       "      <td>0.467004</td>\n",
       "      <td>0.465375</td>\n",
       "    </tr>\n",
       "    <tr>\n",
       "      <th>SVM</th>\n",
       "      <td>0.535727</td>\n",
       "      <td>18.409337</td>\n",
       "      <td>0.536286</td>\n",
       "      <td>0.537642</td>\n",
       "    </tr>\n",
       "    <tr>\n",
       "      <th>KNN</th>\n",
       "      <td>0.411341</td>\n",
       "      <td>21.767598</td>\n",
       "      <td>0.420098</td>\n",
       "      <td>0.421853</td>\n",
       "    </tr>\n",
       "    <tr>\n",
       "      <th>Multinomial Naive Bayes</th>\n",
       "      <td>0.539453</td>\n",
       "      <td>18.896765</td>\n",
       "      <td>0.544273</td>\n",
       "      <td>0.541297</td>\n",
       "    </tr>\n",
       "  </tbody>\n",
       "</table>\n",
       "</div>"
      ],
      "text/plain": [
       "                                F1       Time  Precision    Recall\n",
       "Logistic Regression       0.556104  21.590941   0.558556  0.558941\n",
       "Decision Tree Classifier  0.463627  27.619353   0.467004  0.465375\n",
       "SVM                       0.535727  18.409337   0.536286  0.537642\n",
       "KNN                       0.411341  21.767598   0.420098  0.421853\n",
       "Multinomial Naive Bayes   0.539453  18.896765   0.544273  0.541297"
      ]
     },
     "execution_count": 7,
     "metadata": {},
     "output_type": "execute_result"
    }
   ],
   "source": [
    "classifier_df"
   ]
  },
  {
   "cell_type": "markdown",
   "metadata": {},
   "source": [
    "# Graphs"
   ]
  },
  {
   "cell_type": "code",
   "execution_count": 8,
   "metadata": {
    "ExecuteTime": {
     "end_time": "2016-06-22T10:54:19.868730",
     "start_time": "2016-06-22T10:54:18.656168"
    },
    "collapsed": false
   },
   "outputs": [
    {
     "data": {
      "image/png": "[encoded data removed]",
      "text/plain": [
       "<matplotlib.figure.Figure at 0x7ffa7095b590>"
      ]
     },
     "metadata": {},
     "output_type": "display_data"
    }
   ],
   "source": [
    "plt.figure(figsize=(20,10))\n",
    "plt.scatter(range(len(classifier_df.index)), classifier_df['F1'], s=50, c='g', marker='o')\n",
    "plt.xticks(range(len(classifier_df.index)), classifier_df.index, rotation='vertical')\n",
    "plt.legend(loc='best')\n",
    "plt.show()"
   ]
  },
  {
   "cell_type": "code",
   "execution_count": 9,
   "metadata": {
    "ExecuteTime": {
     "end_time": "2016-06-22T10:54:20.858461",
     "start_time": "2016-06-22T10:54:19.870915"
    },
    "collapsed": false
   },
   "outputs": [
    {
     "data": {
      "image/png": "[encoded data removed]",
      "text/plain": [
       "<matplotlib.figure.Figure at 0x7ffa7095b2d0>"
      ]
     },
     "metadata": {},
     "output_type": "display_data"
    }
   ],
   "source": [
    "plt.figure(figsize=(20,10))\n",
    "plt.scatter(range(len(classifier_df.index)), classifier_df['Time'], s=50, c='r', marker='o')\n",
    "plt.xticks(range(len(classifier_df.index)), classifier_df.index, rotation='vertical')\n",
    "plt.legend(loc='best')\n",
    "plt.show()"
   ]
  },
  {
   "cell_type": "markdown",
   "metadata": {},
   "source": [
    "# Production Code"
   ]
  },
  {
   "cell_type": "code",
   "execution_count": 10,
   "metadata": {
    "ExecuteTime": {
     "end_time": "2016-06-22T10:54:24.568730",
     "start_time": "2016-06-22T10:54:20.860586"
    },
    "collapsed": true
   },
   "outputs": [],
   "source": [
    "count_vect = CountVectorizer(tokenizer=tokenize, stop_words='english')\n",
    "data_train_counts = count_vect.fit_transform(data.text)\n",
    "tfidfvec = TfidfTransformer().fit(data_train_counts)\n",
    "text_tfidf = tfidfvec.transform(data_train_counts)"
   ]
  },
  {
   "cell_type": "code",
   "execution_count": 11,
   "metadata": {
    "ExecuteTime": {
     "end_time": "2016-06-22T10:54:25.206496",
     "start_time": "2016-06-22T10:54:24.571326"
    },
    "collapsed": false
   },
   "outputs": [
    {
     "name": "stdout",
     "output_type": "stream",
     "text": [
      "Logistic Regression\n",
      "SVM\n",
      "Multinomial Naive Bayes\n"
     ]
    }
   ],
   "source": [
    "trained_clfs = {}\n",
    "for clf, name in [\n",
    "    (lr, 'Logistic Regression'),\n",
    "    (svc, 'SVM'),\n",
    "    (mnb, 'Multinomial Naive Bayes')]:\n",
    "    \n",
    "    clf.fit(text_tfidf, data.emotion)\n",
    "    trained_clfs[name] = clf\n",
    "    print name\n",
    "    sys.stdout.flush()"
   ]
  },
  {
   "cell_type": "code",
   "execution_count": 12,
   "metadata": {
    "ExecuteTime": {
     "end_time": "2016-06-22T11:29:56.975241",
     "start_time": "2016-06-22T10:58:34.242559"
    },
    "collapsed": false
   },
   "outputs": [
    {
     "name": "stdout",
     "output_type": "stream",
     "text": [
      "I am very sad\n",
      "Logistic Regression ['sadness']\n",
      "SVM ['sadness']\n",
      "Multinomial Naive Bayes ['sadness']\n",
      "0.0171940326691\n",
      "I am not sad\n",
      "Logistic Regression ['sadness']\n",
      "SVM ['sadness']\n",
      "Multinomial Naive Bayes ['sadness']\n",
      "0.0218389034271\n"
     ]
    },
    {
     "ename": "KeyboardInterrupt",
     "evalue": "",
     "output_type": "error",
     "traceback": [
      "\u001b[1;31m---------------------------------------------------------------------------\u001b[0m",
      "\u001b[1;31mKeyboardInterrupt\u001b[0m                         Traceback (most recent call last)",
      "\u001b[1;32m<ipython-input-12-8a747fa72f6f>\u001b[0m in \u001b[0;36m<module>\u001b[1;34m()\u001b[0m\n\u001b[0;32m      1\u001b[0m \u001b[0mi\u001b[0m \u001b[1;33m=\u001b[0m \u001b[1;36m0\u001b[0m\u001b[1;33m\u001b[0m\u001b[0m\n\u001b[0;32m      2\u001b[0m \u001b[1;32mwhile\u001b[0m \u001b[0mi\u001b[0m \u001b[1;32min\u001b[0m \u001b[0mrange\u001b[0m\u001b[1;33m(\u001b[0m\u001b[1;36m10\u001b[0m\u001b[1;33m)\u001b[0m\u001b[1;33m:\u001b[0m\u001b[1;33m\u001b[0m\u001b[0m\n\u001b[1;32m----> 3\u001b[1;33m     \u001b[0mt\u001b[0m \u001b[1;33m=\u001b[0m \u001b[0mraw_input\u001b[0m\u001b[1;33m(\u001b[0m\u001b[1;34m\"\"\u001b[0m\u001b[1;33m)\u001b[0m\u001b[1;33m\u001b[0m\u001b[0m\n\u001b[0m\u001b[0;32m      4\u001b[0m     \u001b[0mt0\u001b[0m \u001b[1;33m=\u001b[0m \u001b[0mtime\u001b[0m\u001b[1;33m.\u001b[0m\u001b[0mtime\u001b[0m\u001b[1;33m(\u001b[0m\u001b[1;33m)\u001b[0m\u001b[1;33m\u001b[0m\u001b[0m\n\u001b[0;32m      5\u001b[0m     for name in [\n",
      "\u001b[1;32m/home/ashaherb/anaconda2/envs/dato-env/lib/python2.7/site-packages/ipykernel/kernelbase.pyc\u001b[0m in \u001b[0;36mraw_input\u001b[1;34m(self, prompt)\u001b[0m\n\u001b[0;32m    675\u001b[0m             \u001b[0mself\u001b[0m\u001b[1;33m.\u001b[0m\u001b[0m_parent_ident\u001b[0m\u001b[1;33m,\u001b[0m\u001b[1;33m\u001b[0m\u001b[0m\n\u001b[0;32m    676\u001b[0m             \u001b[0mself\u001b[0m\u001b[1;33m.\u001b[0m\u001b[0m_parent_header\u001b[0m\u001b[1;33m,\u001b[0m\u001b[1;33m\u001b[0m\u001b[0m\n\u001b[1;32m--> 677\u001b[1;33m             \u001b[0mpassword\u001b[0m\u001b[1;33m=\u001b[0m\u001b[0mFalse\u001b[0m\u001b[1;33m,\u001b[0m\u001b[1;33m\u001b[0m\u001b[0m\n\u001b[0m\u001b[0;32m    678\u001b[0m         )\n\u001b[0;32m    679\u001b[0m \u001b[1;33m\u001b[0m\u001b[0m\n",
      "\u001b[1;32m/home/ashaherb/anaconda2/envs/dato-env/lib/python2.7/site-packages/ipykernel/kernelbase.pyc\u001b[0m in \u001b[0;36m_input_request\u001b[1;34m(self, prompt, ident, parent, password)\u001b[0m\n\u001b[0;32m    705\u001b[0m             \u001b[1;32mexcept\u001b[0m \u001b[0mKeyboardInterrupt\u001b[0m\u001b[1;33m:\u001b[0m\u001b[1;33m\u001b[0m\u001b[0m\n\u001b[0;32m    706\u001b[0m                 \u001b[1;31m# re-raise KeyboardInterrupt, to truncate traceback\u001b[0m\u001b[1;33m\u001b[0m\u001b[1;33m\u001b[0m\u001b[0m\n\u001b[1;32m--> 707\u001b[1;33m                 \u001b[1;32mraise\u001b[0m \u001b[0mKeyboardInterrupt\u001b[0m\u001b[1;33m\u001b[0m\u001b[0m\n\u001b[0m\u001b[0;32m    708\u001b[0m             \u001b[1;32melse\u001b[0m\u001b[1;33m:\u001b[0m\u001b[1;33m\u001b[0m\u001b[0m\n\u001b[0;32m    709\u001b[0m                 \u001b[1;32mbreak\u001b[0m\u001b[1;33m\u001b[0m\u001b[0m\n",
      "\u001b[1;31mKeyboardInterrupt\u001b[0m: "
     ]
    }
   ],
   "source": [
    "i = 0\n",
    "while i in range(10):\n",
    "    t = raw_input(\"\")\n",
    "    t0 = time.time()\n",
    "    for name in [\n",
    "        'Logistic Regression',\n",
    "        'SVM',\n",
    "        'Multinomial Naive Bayes']:\n",
    "        docs_new = [t]\n",
    "        t_new_counts = count_vect.transform(docs_new)\n",
    "        t_new_tfidf = tfidfvec.transform(t_new_counts)\n",
    "        \n",
    "        clf = trained_clfs[name]\n",
    "        predicted = clf.predict(t_new_tfidf)\n",
    "        print name, predicted\n",
    "        sys.stdout.flush()\n",
    "    time_iter = (time.time() - t0)\n",
    "    print time_iter\n",
    "    i+=1"
   ]
  },
  {
   "cell_type": "code",
   "execution_count": null,
   "metadata": {
    "collapsed": true
   },
   "outputs": [],
   "source": []
  }
 ],
 "metadata": {
  "hide_input": false,
  "kernelspec": {
   "display_name": "Python 3",
   "language": "python",
   "name": "python3"
  },
  "language_info": {
   "codemirror_mode": {
    "name": "ipython",
    "version": 3
   },
   "file_extension": ".py",
   "mimetype": "text/x-python",
   "name": "python",
   "nbconvert_exporter": "python",
   "pygments_lexer": "ipython3",
   "version": "3.5.1"
  },
  "nav_menu": {},
  "toc": {
   "navigate_menu": true,
   "number_sections": true,
   "sideBar": true,
   "threshold": 6,
   "toc_cell": false,
   "toc_section_display": "block",
   "toc_window_display": false
  }
 },
 "nbformat": 4,
 "nbformat_minor": 0
}
